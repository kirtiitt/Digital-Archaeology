{
  "cells": [
    {
      "cell_type": "code",
      "execution_count": null,
      "metadata": {
        "colab": {
          "base_uri": "https://localhost:8080/"
        },
        "id": "6DKB4OMDpvRL",
        "outputId": "30a8c2e3-915c-458f-c43e-8f2bd2612af7"
      },
      "outputs": [
        {
          "output_type": "stream",
          "name": "stdout",
          "text": [
            "Mounted at /content/drive\n",
            " 148.docx   BasedOnMaterial   ClassData\t\t Denomination   heart_disease_data.csv\n",
            " 148.pdf    BasedOnPeriod    'Colab Notebooks'\t Edited.csv     models\n"
          ]
        }
      ],
      "source": [
        "import google.colab\n",
        "google.colab.auth.authenticate_user()\n",
        "\n",
        "#authentication and establish connection\n",
        "from google.colab import drive\n",
        "drive.mount('/content/drive')\n",
        "\n",
        "!ls '/content/drive/My Drive'"
      ]
    },
    {
      "cell_type": "code",
      "execution_count": null,
      "metadata": {
        "colab": {
          "base_uri": "https://localhost:8080/"
        },
        "id": "C0qYrna-p--Z",
        "outputId": "2c8facb6-0895-452c-e8d0-2c59275ab4a8"
      },
      "outputs": [
        {
          "output_type": "stream",
          "name": "stdout",
          "text": [
            "\u001b[2K     \u001b[90m━━━━━━━━━━━━━━━━━━━━━━━━━━━━━━━━━━━━━━━━\u001b[0m \u001b[32m8.6/8.6 MB\u001b[0m \u001b[31m23.3 MB/s\u001b[0m eta \u001b[36m0:00:00\u001b[0m\n",
            "\u001b[2K     \u001b[90m━━━━━━━━━━━━━━━━━━━━━━━━━━━━━━━━━━━━━━━━\u001b[0m \u001b[32m207.3/207.3 kB\u001b[0m \u001b[31m17.6 MB/s\u001b[0m eta \u001b[36m0:00:00\u001b[0m\n",
            "\u001b[2K     \u001b[90m━━━━━━━━━━━━━━━━━━━━━━━━━━━━━━━━━━━━━━━━\u001b[0m \u001b[32m6.9/6.9 MB\u001b[0m \u001b[31m52.7 MB/s\u001b[0m eta \u001b[36m0:00:00\u001b[0m\n",
            "\u001b[2K     \u001b[90m━━━━━━━━━━━━━━━━━━━━━━━━━━━━━━━━━━━━━━━━\u001b[0m \u001b[32m83.0/83.0 kB\u001b[0m \u001b[31m6.3 MB/s\u001b[0m eta \u001b[36m0:00:00\u001b[0m\n",
            "\u001b[2K     \u001b[90m━━━━━━━━━━━━━━━━━━━━━━━━━━━━━━━━━━━━━━━━\u001b[0m \u001b[32m62.7/62.7 kB\u001b[0m \u001b[31m5.7 MB/s\u001b[0m eta \u001b[36m0:00:00\u001b[0m\n",
            "\u001b[?25h"
          ]
        }
      ],
      "source": [
        "!pip install -q streamlit"
      ]
    },
    {
      "cell_type": "markdown",
      "metadata": {
        "id": "0H2BB1vhbWNN"
      },
      "source": [
        "**Web app to run all available models**"
      ]
    },
    {
      "cell_type": "code",
      "execution_count": null,
      "metadata": {
        "colab": {
          "base_uri": "https://localhost:8080/"
        },
        "id": "buwQq2dRqv1k",
        "outputId": "098c817a-5db1-4243-f19c-0b0867ba5e3e"
      },
      "outputs": [
        {
          "output_type": "stream",
          "name": "stdout",
          "text": [
            "Writing app.py\n"
          ]
        }
      ],
      "source": [
        "%%writefile app.py\n",
        "import streamlit as st\n",
        "import tensorflow as tf\n",
        "import numpy as np\n",
        "import pandas as pd\n",
        "from joblib import load\n",
        "import PIL\n",
        "import cv2\n",
        "import base64\n",
        "\n",
        "st.set_page_config(\n",
        "    page_title=\"Digispectra App\",\n",
        "    layout=\"wide\",\n",
        "    initial_sidebar_state=\"expanded\",\n",
        ")\n",
        "\n",
        "\n",
        "@st.cache_data\n",
        "def get_img_as_base64(file):\n",
        "    with open(file, \"rb\") as f:\n",
        "        data = f.read()\n",
        "    return base64.b64encode(data).decode()\n",
        "\n",
        "img = get_img_as_base64(\"/content/drive/MyDrive/models/final.png\")\n",
        "\n",
        "page_bg_img = f\"\"\" <style>\n",
        "                [data-testid=\"stAppViewContainer\"] > .main {{\n",
        "                background-image: url(\"https://i.postimg.cc/L8hx7hWk/Screenshot-2024-05-13-at-10-41-27-PM.png\");\n",
        "                background-size: 100%;\n",
        "                background-position: top left;\n",
        "                background-repeat: no-repeat;\n",
        "                background-attachment: local;\n",
        "                }}\n",
        "\n",
        "                [data-testid=\"stSidebar\"] > div:first-child {{\n",
        "                background-image: url(\"data:image/png;base64,{img}\");\n",
        "                background-position: center;\n",
        "                background-repeat: no-repeat;\n",
        "                background-attachment: fixed;\n",
        "                }}\n",
        "\n",
        "                [data-testid=\"stHeader\"] {{\n",
        "                background: rgba(0,0,0,0);\n",
        "                }}\n",
        "\n",
        "                [data-testid=\"stToolbar\"] {{\n",
        "                right: 2rem;\n",
        "                }}\n",
        "                </style>\n",
        "                \"\"\"\n",
        "\n",
        "st.markdown(page_bg_img, unsafe_allow_html=True)\n",
        "\n",
        "model1_path = '/content/drive/MyDrive/models/materialModel.h5'\n",
        "model2_path = '/content/drive/MyDrive/models/classcoinModel.h5'\n",
        "model3_path = '/content/drive/MyDrive/models/periodModel.h5'\n",
        "model4_path = '/content/drive/MyDrive/models/denomModel.h5'\n",
        "\n",
        "model1 = tf.keras.models.load_model(model1_path)\n",
        "model2 = tf.keras.models.load_model(model2_path)\n",
        "model3= tf.keras.models.load_model(model3_path)\n",
        "model4= tf.keras.models.load_model(model4_path)\n",
        "\n",
        "class_names1 = ['Base Silver', 'Copper', 'Copper Alloy', 'Gold', 'Silver']\n",
        "class_names2 = ['Coin', 'Not Coin']\n",
        "class_names3= ['MEDIEVAL', 'ROMAN']\n",
        "class_names4= ['Cut halfpenny', 'Nummus (AE 1 - AE 4)', 'Penny', 'Radiate (antoninianus)']\n",
        "\n",
        "\n",
        "#random forest prediction\n",
        "model= load('/content/drive/MyDrive/models/randomForest4.joblib')\n",
        "input_df= pd.read_pickle('/content/drive/MyDrive/models/input_data.pkl')\n",
        "\n",
        "class_broad_period= ['Roman', 'Medieval']\n",
        "\n",
        "def predict_broad_period(input_data):\n",
        "    temp_df= input_df.copy(deep= True)\n",
        "    temp_df.reset_index(drop=True, inplace=True)\n",
        "    temp_df.loc[0, input_data]= 1\n",
        "    temp_df= temp_df.fillna(0)\n",
        "    prediction= model.predict(temp_df)\n",
        "    return prediction\n",
        "\n",
        "#material classification\n",
        "def preprocess_image1(image):\n",
        "    img = image.resize((180, 180))  # Resize image to match model input size\n",
        "    img_array = tf.keras.preprocessing.image.img_to_array(img)\n",
        "    img_array = np.expand_dims(img_array, axis=0)  # Create batch axis\n",
        "    return img_array\n",
        "\n",
        "def predict_image1(image):\n",
        "    img_array = preprocess_image1(image)\n",
        "    predictions = model1.predict(img_array)\n",
        "    predicted_class_index = np.argmax(predictions[0])\n",
        "    predicted_class = class_names1[predicted_class_index]\n",
        "    confidence = predictions[0][predicted_class_index]\n",
        "    return predicted_class, confidence\n",
        "\n",
        "#denomination\n",
        "def predict_image4(image):\n",
        "    img_array = preprocess_image1(image)\n",
        "    predictions = model4.predict(img_array)\n",
        "    predicted_class_index = np.argmax(predictions[0])\n",
        "    predicted_class = class_names4[predicted_class_index]\n",
        "    confidence = predictions[0][predicted_class_index]\n",
        "    return predicted_class, confidence\n",
        "\n",
        "#coin and not coin\n",
        "def preprocess_image2(image):\n",
        "    img = cv2.cvtColor(image, cv2.COLOR_BGR2RGB)\n",
        "    resized_img = tf.image.resize(img, (256, 256)).numpy() / 255.0\n",
        "    expanded_img = np.expand_dims(resized_img, axis=0)\n",
        "    return expanded_img\n",
        "\n",
        "def predict_image2(image):\n",
        "    preprocessed_img = preprocess_image2(image)\n",
        "    prediction = model2.predict(preprocessed_img)\n",
        "    if prediction > 0.5:\n",
        "        return \"Not Coin\", prediction\n",
        "    else:\n",
        "        return \"Coin\", prediction\n",
        "\n",
        "#MEDIEVAL, ROMAN\n",
        "def predict_image3(image):\n",
        "    preprocessed_img = preprocess_image2(image)\n",
        "    prediction = model3.predict(preprocessed_img)\n",
        "    if prediction > 0.5:\n",
        "        return \"ROMAN\", prediction\n",
        "    else:\n",
        "        return \"MEDIEVAL\", prediction\n",
        "\n",
        "#streamlit app\n",
        "def main():\n",
        "    selected_page = st.sidebar.radio(\"\", [\"Home\", \"Navigate\", \"About\"])\n",
        "\n",
        "    if \"Home\" in selected_page:\n",
        "        st.markdown(\n",
        "            \"<h1 style='text-align: center; font-family: Times New Roman, sans-serif;'>Digital Archaeology Toolkit</h1>\",\n",
        "            unsafe_allow_html=True,\n",
        "        )\n",
        "        st.markdown(\n",
        "            \"<h4 style='color: brown; text-align: center; font-family: Times New Roman, sans-serif'>An approach to artefact analysis</h4>\",\n",
        "            unsafe_allow_html=True,\n",
        "        )\n",
        "        st.markdown(\"<br>\", unsafe_allow_html=True)\n",
        "        st.markdown(\n",
        "            \"<h5>Modules available</h5>\",\n",
        "            unsafe_allow_html=True,\n",
        "        )\n",
        "        st.write(\n",
        "            \"- **Object classification:** Classify into available classes namely coin and not coin.\"\n",
        "        )\n",
        "        st.write(\n",
        "            \"- **Broad period prediction:** Classify into Roman and Medieval time periods based on input data.\"\n",
        "        )\n",
        "        st.write(\n",
        "            \"- **Period classification:** Classify into time period directly by image.\"\n",
        "        )\n",
        "        st.write(\n",
        "            \"- **Material classification:** Extract coin material, classes available are gold, silver, copper etc.\"\n",
        "        )\n",
        "        st.write(\n",
        "            \"- **Denomination classification:** Extract coin denomination, classes available are nummus, penny, half penny etc.\"\n",
        "        )\n",
        "        image_path = '/content/drive/MyDrive/models/arch.png'\n",
        "        st.markdown(\"<br>\", unsafe_allow_html=True)\n",
        "        st.image(image_path, use_column_width=True)\n",
        "\n",
        "    elif \"Navigate\" in selected_page:\n",
        "        st.sidebar.title(\"Navigation\")\n",
        "        page = st.sidebar.selectbox(\"Go to\", [\"Broad Period Prediction\", \"Period Classification\", \"Object Classification\", \"Material Classification\",\n",
        "                                          \"Denomination Classification\"])\n",
        "        if page == \"Broad Period Prediction\":\n",
        "            st.title('Broad Period Prediction')\n",
        "\n",
        "            #get user input\n",
        "            material_input = st.text_input('Material:')\n",
        "            ruler_input = st.text_input('Ruler Name:')\n",
        "            mint_input = st.text_input('Mint Name:')\n",
        "            denom_input = st.text_input('Denomination Name:')\n",
        "\n",
        "            input_data= [material_input, ruler_input, mint_input, denom_input]\n",
        "\n",
        "            if st.button('Predict'):\n",
        "                prediction = predict_broad_period(input_data)\n",
        "                st.write('Predicted broad period:', class_broad_period[prediction[0]])\n",
        "\n",
        "        elif page == \"Period Classification\":\n",
        "            st.title(\"Period Classification\")\n",
        "            uploaded_file= st.file_uploader(\"Please upload an image file\", type=[\"jpg\", \"jpeg\", \"png\"])\n",
        "\n",
        "            if uploaded_file is not None:\n",
        "                image = cv2.imdecode(np.fromstring(uploaded_file.read(), np.uint8), 1)\n",
        "                st.image(uploaded_file, caption=\"Uploaded Image\", use_column_width=True)\n",
        "                predicted_class, confidence = predict_image3(image)\n",
        "                st.subheader(\"Prediction Result:\")\n",
        "                st.write(f\"Predicted class: {predicted_class}\")\n",
        "\n",
        "        elif page == \"Object Classification\":\n",
        "            st.title(\"Object Classification\")\n",
        "            uploaded_file= st.file_uploader(\"Please upload an image file\", type=[\"jpg\", \"jpeg\", \"png\"])\n",
        "\n",
        "            if uploaded_file is not None:\n",
        "                image = cv2.imdecode(np.fromstring(uploaded_file.read(), np.uint8), 1)\n",
        "                st.image(uploaded_file, caption=\"Uploaded Image\", use_column_width=True)\n",
        "                predicted_class, confidence = predict_image2(image)\n",
        "                st.subheader(\"Prediction Result:\")\n",
        "                st.write(f\"Predicted class: {predicted_class}\")\n",
        "\n",
        "        elif page == \"Material Classification\":\n",
        "            st.title(\"Material Classification\")\n",
        "            uploaded_file = st.file_uploader(\"Please upload an image file\", type=[\"jpg\", \"jpeg\", \"png\"])\n",
        "\n",
        "            if uploaded_file is not None:\n",
        "                image = PIL.Image.open(uploaded_file)\n",
        "                st.image(image, caption=\"Uploaded Image\", use_column_width=True)\n",
        "                predicted_class, confidence = predict_image1(image)\n",
        "                st.subheader(\"Prediction Result:\")\n",
        "                st.write(f\"Predicted class: {predicted_class}\")\n",
        "                st.write(f\"Confidence: {confidence}\")\n",
        "\n",
        "        elif page == \"Denomination Classification\":\n",
        "            st.title(\"Denomination Classification\")\n",
        "            uploaded_file = st.file_uploader(\"Please upload an image file\", type=[\"jpg\", \"jpeg\", \"png\"])\n",
        "\n",
        "            if uploaded_file is not None:\n",
        "                image = PIL.Image.open(uploaded_file)\n",
        "                st.image(image, caption=\"Uploaded Image\", use_column_width=True)\n",
        "                predicted_class, confidence = predict_image4(image)\n",
        "                st.subheader(\"Prediction Result:\")\n",
        "                st.write(f\"Predicted class: {predicted_class}\")\n",
        "                st.write(f\"Confidence: {confidence}\")\n",
        "\n",
        "\n",
        "    elif \"About\" in selected_page:\n",
        "        st.markdown(\"<h3 style='text-align: center; font-family: Times New Roman, sans-serif;'>Contact Us</h1>\",\n",
        "                unsafe_allow_html=True)\n",
        "        st.markdown(\"<br>\", unsafe_allow_html=True)\n",
        "        st.write(\"**Get in touch via email in case of queries or any help**\")\n",
        "        st.markdown(\"<br>\", unsafe_allow_html=True)\n",
        "        st.write(\"- Kirti Tomer: [2003010125@ipec.org.in](mailto:2003010125@ipec.org.in)\")\n",
        "        st.write(\"- Ishita Gupta:[2003010114@ipec.org.in](mailto:2003010114@ipec.org.in)\")\n",
        "        st.write(\"- Khushi Gole: [2003010123@ipec.org.in](mailto:2003010123@ipec.org.in)\")\n",
        "        st.markdown(\"---\")\n",
        "        st.write(\"Students of Dr. APJ Abdul Kalam Technical University, Lucknow 226031, Uttar Pradesh\")\n",
        "\n",
        "\n",
        "if __name__ == \"__main__\":\n",
        "    main()"
      ]
    },
    {
      "cell_type": "code",
      "execution_count": null,
      "metadata": {
        "id": "VUTPiGIMqm2-"
      },
      "outputs": [],
      "source": [
        "!streamlit run app.py &>/content/logs.txt &"
      ]
    },
    {
      "cell_type": "code",
      "execution_count": null,
      "metadata": {
        "colab": {
          "base_uri": "https://localhost:8080/"
        },
        "id": "8fo4JpiKqsGB",
        "outputId": "f876c225-8994-4bb5-efe3-7a42026e66b5"
      },
      "outputs": [
        {
          "output_type": "stream",
          "name": "stdout",
          "text": [
            "Password/Enpoint IP for localtunnel is: 35.202.182.11\n"
          ]
        }
      ],
      "source": [
        "import urllib\n",
        "print(\"Password/Enpoint IP for localtunnel is:\",urllib.request.urlopen('https://ipv4.icanhazip.com').read().decode('utf8').strip(\"\\n\"))"
      ]
    },
    {
      "cell_type": "code",
      "execution_count": null,
      "metadata": {
        "id": "-UBJX5pwqt4a",
        "colab": {
          "base_uri": "https://localhost:8080/"
        },
        "outputId": "4cdcc52e-20fc-4fa9-a022-3243fdd05ebd"
      },
      "outputs": [
        {
          "output_type": "stream",
          "name": "stdout",
          "text": [
            "\u001b[K\u001b[?25hnpx: installed 22 in 2.382s\n",
            "your url is: https://wild-pandas-agree.loca.lt\n",
            "^C\n"
          ]
        }
      ],
      "source": [
        "!npx localtunnel --port 8501"
      ]
    },
    {
      "cell_type": "code",
      "source": [],
      "metadata": {
        "id": "0u-w6TrxTOOp"
      },
      "execution_count": null,
      "outputs": []
    },
    {
      "cell_type": "code",
      "execution_count": null,
      "metadata": {
        "colab": {
          "base_uri": "https://localhost:8080/"
        },
        "id": "LLfRmHoQWjJ3",
        "outputId": "b65fad94-0f80-44f1-ff7b-af5195be3ac4"
      },
      "outputs": [
        {
          "output_type": "stream",
          "name": "stdout",
          "text": [
            "Password/Endpoint IP for localtunnel is: 35.202.182.11\n"
          ]
        }
      ],
      "source": [
        "#custom web address app\n",
        "import urllib.request\n",
        "import subprocess\n",
        "\n",
        "print(\"Password/Endpoint IP for localtunnel is:\", urllib.request.urlopen('https://ipv4.icanhazip.com').read().decode('utf8').strip(\"\\n\"))"
      ]
    },
    {
      "cell_type": "code",
      "execution_count": null,
      "metadata": {
        "colab": {
          "base_uri": "https://localhost:8080/"
        },
        "id": "-D4Wxk-ZWjuU",
        "outputId": "17ca1a67-b0ce-4e1f-f30f-b01bcbaf7045"
      },
      "outputs": [
        {
          "output_type": "execute_result",
          "data": {
            "text/plain": [
              "<Popen: returncode: None args: ['streamlit', 'run', 'app3.py', '&>/content/l...>"
            ]
          },
          "metadata": {},
          "execution_count": 10
        }
      ],
      "source": [
        "subprocess.Popen(['streamlit', 'run', 'app3.py', '&>/content/logs.txt', '&'])"
      ]
    },
    {
      "cell_type": "code",
      "execution_count": null,
      "metadata": {
        "colab": {
          "base_uri": "https://localhost:8080/"
        },
        "id": "b4db6HZIWcuK",
        "outputId": "c293f570-6a30-47c8-cf3c-ce7a29d3dd83"
      },
      "outputs": [
        {
          "output_type": "execute_result",
          "data": {
            "text/plain": [
              "CompletedProcess(args=['npx', 'localtunnel', '--port', '8501', '--subdomain', 'digispectra-web-app'], returncode=1)"
            ]
          },
          "metadata": {},
          "execution_count": 12
        }
      ],
      "source": [
        "custom_subdomain = \"digispectra-web-app\"\n",
        "subprocess.run(['npx', 'localtunnel', '--port', '8501', '--subdomain', custom_subdomain])"
      ]
    },
    {
      "cell_type": "code",
      "execution_count": null,
      "metadata": {
        "id": "NvcxC0WbhFmY"
      },
      "outputs": [],
      "source": []
    }
  ],
  "metadata": {
    "colab": {
      "provenance": [],
      "authorship_tag": "ABX9TyNHkfs7x1MXeGRh0vv3h0Ld"
    },
    "kernelspec": {
      "display_name": "Python 3",
      "name": "python3"
    },
    "language_info": {
      "name": "python"
    }
  },
  "nbformat": 4,
  "nbformat_minor": 0
}